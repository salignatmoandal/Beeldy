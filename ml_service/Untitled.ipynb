{
 "cells": [
  {
   "cell_type": "code",
   "execution_count": null,
   "id": "b1ab6801-2b71-4ce1-bac6-05b0e155ba4b",
   "metadata": {},
   "outputs": [],
   "source": [
    "import pandas as pd "
   ]
  },
  {
   "cell_type": "code",
   "execution_count": 26,
   "id": "e5842376-110a-4a6b-8d3a-e321a42e30dd",
   "metadata": {},
   "outputs": [],
   "source": [
    "df = pd.read_csv(\"data/equipments.csv\")\n",
    "df.columns = [\"domain\", \"type\", \"category\", \"sub_category\"]\n",
    "df.fillna(\"\", inplace=True)\n",
    "\n",
    "# Création du champ `name` (important pour FAISS et transformer)\n",
    "df[\"name\"] = df[[\"type\", \"category\", \"sub_category\"]].agg(\" \".join, axis=1).str.strip()\n",
    "\n",
    "# Nettoyage optionnel\n",
    "df[\"name\"] = df[\"name\"].str.replace(\"  \", \" \").str.strip()"
   ]
  },
  {
   "cell_type": "code",
   "execution_count": 18,
   "id": "388b5fc7-afd1-4689-b667-80123493adb3",
   "metadata": {},
   "outputs": [
    {
     "name": "stdout",
     "output_type": "stream",
     "text": [
      "Colonnes: ['domaine', 'type', 'categorie', 'sous_categorie']\n"
     ]
    }
   ],
   "source": []
  },
  {
   "cell_type": "code",
   "execution_count": null,
   "id": "e42eb6d4-b283-46ac-8556-e6c580b38e00",
   "metadata": {},
   "outputs": [],
   "source": []
  }
 ],
 "metadata": {
  "kernelspec": {
   "display_name": "Python 3 (ipykernel)",
   "language": "python",
   "name": "python3"
  },
  "language_info": {
   "codemirror_mode": {
    "name": "ipython",
    "version": 3
   },
   "file_extension": ".py",
   "mimetype": "text/x-python",
   "name": "python",
   "nbconvert_exporter": "python",
   "pygments_lexer": "ipython3",
   "version": "3.11.8"
  }
 },
 "nbformat": 4,
 "nbformat_minor": 5
}
